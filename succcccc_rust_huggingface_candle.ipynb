{
  "nbformat": 4,
  "nbformat_minor": 0,
  "metadata": {
    "colab": {
      "provenance": []
    },
    "kernelspec": {
      "name": "python3",
      "display_name": "Python 3"
    },
    "language_info": {
      "name": "python"
    }
  },
  "cells": [
    {
      "cell_type": "code",
      "execution_count": null,
      "metadata": {
        "id": "jV557-bwA-Cf"
      },
      "outputs": [],
      "source": []
    },
    {
      "cell_type": "markdown",
      "source": [
        "Install Huggingface Candle Locally to Run Blazing Fast Models\n",
        "\n",
        "\n",
        "Fahd Mirza ai"
      ],
      "metadata": {
        "id": "6QL6m6S9OZOb"
      }
    },
    {
      "cell_type": "markdown",
      "source": [
        "### https://www.youtube.com/watch?v=8hpYedvjrxE"
      ],
      "metadata": {
        "id": "aBGdPa62OjpV"
      }
    },
    {
      "cell_type": "code",
      "source": [
        "\n"
      ],
      "metadata": {
        "id": "0l4cqjPRSoq-"
      },
      "execution_count": null,
      "outputs": []
    },
    {
      "cell_type": "code",
      "source": [
        "!curl --proto '=https' --tlsv1.2 -sSf https://sh.rustup.rs | sh -s -- -y\n",
        "\n",
        "import os\n",
        "os.environ[\"PATH\"] += \":/root/.cargo/bin\"\n",
        "\n",
        "!rustc --version\n",
        "!cargo --version"
      ],
      "metadata": {
        "colab": {
          "base_uri": "https://localhost:8080/"
        },
        "id": "pIOGT4oyBA8z",
        "outputId": "3284b64d-94d7-4e34-bbbb-d362a6742ba8"
      },
      "execution_count": 1,
      "outputs": [
        {
          "output_type": "stream",
          "name": "stdout",
          "text": [
            "\u001b[1minfo:\u001b[0m downloading installer\n",
            "\u001b[0m\u001b[1minfo: \u001b[0mprofile set to 'default'\n",
            "\u001b[0m\u001b[1minfo: \u001b[0mdefault host triple is x86_64-unknown-linux-gnu\n",
            "\u001b[0m\u001b[1minfo: \u001b[0msyncing channel updates for 'stable-x86_64-unknown-linux-gnu'\n",
            "\u001b[0m\u001b[1minfo: \u001b[0mlatest update on 2025-01-30, rust version 1.84.1 (e71f9a9a9 2025-01-27)\n",
            "\u001b[0m\u001b[1minfo: \u001b[0mdownloading component 'cargo'\n",
            "\u001b[0m\u001b[1minfo: \u001b[0mdownloading component 'clippy'\n",
            "\u001b[0m\u001b[1minfo: \u001b[0mdownloading component 'rust-docs'\n",
            "\u001b[0m\u001b[1minfo: \u001b[0mdownloading component 'rust-std'\n",
            " 26.7 MiB /  26.7 MiB (100 %)  20.5 MiB/s in  1s ETA:  0s\n",
            "\u001b[0m\u001b[1minfo: \u001b[0mdownloading component 'rustc'\n",
            " 70.6 MiB /  70.6 MiB (100 %)  33.2 MiB/s in  2s ETA:  0s\n",
            "\u001b[0m\u001b[1minfo: \u001b[0mdownloading component 'rustfmt'\n",
            "\u001b[0m\u001b[1minfo: \u001b[0minstalling component 'cargo'\n",
            "  8.8 MiB /   8.8 MiB (100 %)   8.3 MiB/s in  1s ETA:  0s\n",
            "\u001b[0m\u001b[1minfo: \u001b[0minstalling component 'clippy'\n",
            "\u001b[0m\u001b[1minfo: \u001b[0minstalling component 'rust-docs'\n",
            " 16.5 MiB /  16.5 MiB (100 %)   2.1 MiB/s in  8s ETA:  0s\n",
            "\u001b[0m\u001b[1minfo: \u001b[0minstalling component 'rust-std'\n",
            " 26.7 MiB /  26.7 MiB (100 %)   6.6 MiB/s in  4s ETA:  0s\n",
            "\u001b[0m\u001b[1minfo: \u001b[0minstalling component 'rustc'\n",
            " 70.6 MiB /  70.6 MiB (100 %)   8.7 MiB/s in  9s ETA:  0s\n",
            "\u001b[0m\u001b[1minfo: \u001b[0minstalling component 'rustfmt'\n",
            "\u001b[0m\u001b[1minfo: \u001b[0mdefault toolchain set to 'stable-x86_64-unknown-linux-gnu'\n",
            "\n",
            "  \u001b[0m\u001b[1m\u001b[0m\u001b[1m\u001b[32mstable-x86_64-unknown-linux-gnu installed\u001b[0m - rustc 1.84.1 (e71f9a9a9 2025-01-27)\n",
            "\n",
            "\u001b[0m\u001b[1m\n",
            "Rust is installed now. Great!\n",
            "\u001b[0m\n",
            "To get started you may need to restart your current shell.\n",
            "This would reload your \u001b[0m\u001b[1mPATH\u001b[0m environment variable to include\n",
            "Cargo's bin directory ($HOME/.cargo/bin).\n",
            "\n",
            "To configure your current shell, you need to source\n",
            "the corresponding \u001b[0m\u001b[1menv\u001b[0m file under $HOME/.cargo.\n",
            "\n",
            "This is usually done by running one of the following (note the leading DOT):\n",
            ". \"$HOME/.cargo/env\"            # For sh/bash/zsh/ash/dash/pdksh\n",
            "source \"$HOME/.cargo/env.fish\"  # For fish\n",
            "rustc 1.84.1 (e71f9a9a9 2025-01-27)\n",
            "cargo 1.84.1 (66221abde 2024-11-19)\n"
          ]
        }
      ]
    },
    {
      "cell_type": "code",
      "source": [],
      "metadata": {
        "id": "If6MtleIBoZZ"
      },
      "execution_count": null,
      "outputs": []
    },
    {
      "cell_type": "code",
      "source": [
        "/usr/lib/gcc/x86_64-linux-gnu\n",
        "/usr/lib/gcc/x86_64-linux-gnu/11"
      ],
      "metadata": {
        "id": "ps7Q0HadBBm5"
      },
      "execution_count": null,
      "outputs": []
    },
    {
      "cell_type": "code",
      "source": [
        "!export PATH=$PATH:/usr/lib/gcc/x86_64-linux-gnu/11/\n",
        "!export OPENSSL_LIB_DIR=/usr/lib/x86_64-linux-gnu"
      ],
      "metadata": {
        "id": "FM_UsJiiBkqR"
      },
      "execution_count": 2,
      "outputs": []
    },
    {
      "cell_type": "code",
      "source": [
        "!sudo apt install libssl-dev\n",
        "!sudo apt install pkg-config"
      ],
      "metadata": {
        "colab": {
          "base_uri": "https://localhost:8080/"
        },
        "id": "nV_WrkrWCa1b",
        "outputId": "d23b2f9f-0603-4551-9934-053d5ac416d7"
      },
      "execution_count": 4,
      "outputs": [
        {
          "output_type": "stream",
          "name": "stdout",
          "text": [
            "Reading package lists... Done\n",
            "Building dependency tree... Done\n",
            "Reading state information... Done\n",
            "libssl-dev is already the newest version (3.0.2-0ubuntu1.18).\n",
            "0 upgraded, 0 newly installed, 0 to remove and 20 not upgraded.\n",
            "Reading package lists... Done\n",
            "Building dependency tree... Done\n",
            "Reading state information... Done\n",
            "The following packages were automatically installed and are no longer required:\n",
            "  libbz2-dev libpkgconf3 libreadline-dev\n",
            "Use 'sudo apt autoremove' to remove them.\n",
            "The following packages will be REMOVED:\n",
            "  pkgconf r-base-dev\n",
            "The following NEW packages will be installed:\n",
            "  pkg-config\n",
            "0 upgraded, 1 newly installed, 2 to remove and 20 not upgraded.\n",
            "Need to get 48.2 kB of archives.\n",
            "After this operation, 11.3 kB disk space will be freed.\n",
            "Get:1 http://archive.ubuntu.com/ubuntu jammy/main amd64 pkg-config amd64 0.29.2-1ubuntu3 [48.2 kB]\n",
            "Fetched 48.2 kB in 0s (276 kB/s)\n",
            "debconf: unable to initialize frontend: Dialog\n",
            "debconf: (No usable dialog-like program is installed, so the dialog based frontend cannot be used. at /usr/share/perl5/Debconf/FrontEnd/Dialog.pm line 78, <> line 1.)\n",
            "debconf: falling back to frontend: Readline\n",
            "debconf: unable to initialize frontend: Readline\n",
            "debconf: (This frontend requires a controlling tty.)\n",
            "debconf: falling back to frontend: Teletype\n",
            "dpkg-preconfigure: unable to re-open stdin: \n",
            "(Reading database ... 124926 files and directories currently installed.)\n",
            "Removing r-base-dev (4.4.2-1.2204.0) ...\n",
            "\u001b[1mdpkg:\u001b[0m pkgconf: dependency problems, but removing anyway as you requested:\n",
            " libsndfile1-dev:amd64 depends on pkg-config; however:\n",
            "  Package pkg-config is not installed.\n",
            "  Package pkgconf which provides pkg-config is to be removed.\n",
            " libopencv-dev depends on pkg-config; however:\n",
            "  Package pkg-config is not installed.\n",
            "  Package pkgconf which provides pkg-config is to be removed.\n",
            " libmkl-dev:amd64 depends on pkg-config; however:\n",
            "  Package pkg-config is not installed.\n",
            "  Package pkgconf which provides pkg-config is to be removed.\n",
            " libjack-dev depends on pkg-config; however:\n",
            "  Package pkg-config is not installed.\n",
            "  Package pkgconf which provides pkg-config is to be removed.\n",
            " libgphoto2-dev:amd64 depends on pkg-config; however:\n",
            "  Package pkg-config is not installed.\n",
            "  Package pkgconf which provides pkg-config is to be removed.\n",
            " libfontconfig-dev:amd64 depends on pkg-config; however:\n",
            "  Package pkg-config is not installed.\n",
            "  Package pkgconf which provides pkg-config is to be removed.\n",
            "\n",
            "Removing pkgconf (1.8.0-1) ...\n",
            "Removing 'diversion of /usr/bin/pkg-config to /usr/bin/pkg-config.real by pkgconf'\n",
            "Removing 'diversion of /usr/share/aclocal/pkg.m4 to /usr/share/aclocal/pkg.real.m4 by pkgconf'\n",
            "Removing 'diversion of /usr/share/man/man1/pkg-config.1.gz to /usr/share/man/man1/pkg-config.real.1.gz by pkgconf'\n",
            "Removing 'diversion of /usr/share/pkg-config-crosswrapper to /usr/share/pkg-config-crosswrapper.real by pkgconf'\n",
            "Selecting previously unselected package pkg-config.\n",
            "(Reading database ... 124902 files and directories currently installed.)\n",
            "Preparing to unpack .../pkg-config_0.29.2-1ubuntu3_amd64.deb ...\n",
            "Unpacking pkg-config (0.29.2-1ubuntu3) ...\n",
            "Setting up pkg-config (0.29.2-1ubuntu3) ...\n",
            "Processing triggers for man-db (2.10.2-1) ...\n"
          ]
        }
      ]
    },
    {
      "cell_type": "code",
      "source": [
        "!sudo find / -name cclplus"
      ],
      "metadata": {
        "colab": {
          "base_uri": "https://localhost:8080/"
        },
        "id": "v_Pu9hGlCqAa",
        "outputId": "9b7289e7-bf25-415b-a0cf-7525c76357c5"
      },
      "execution_count": 5,
      "outputs": [
        {
          "output_type": "stream",
          "name": "stdout",
          "text": [
            "find: ‘/proc/69/task/69/net’: Invalid argument\n",
            "find: ‘/proc/69/net’: Invalid argument\n"
          ]
        }
      ]
    },
    {
      "cell_type": "code",
      "source": [
        "!cargo new myapp"
      ],
      "metadata": {
        "colab": {
          "base_uri": "https://localhost:8080/"
        },
        "id": "ASYokU9rE9nU",
        "outputId": "062757fa-2e83-4426-8054-1ccb1ffffe5c"
      },
      "execution_count": 6,
      "outputs": [
        {
          "output_type": "stream",
          "name": "stdout",
          "text": [
            "\u001b[1m\u001b[32m    Creating\u001b[0m binary (application) `myapp` package\n",
            "\u001b[1m\u001b[36mnote\u001b[0m\u001b[1m:\u001b[0m see more `Cargo.toml` keys and their definitions at https://doc.rust-lang.org/cargo/reference/manifest.html\n"
          ]
        }
      ]
    },
    {
      "cell_type": "code",
      "source": [
        "%cd myapp"
      ],
      "metadata": {
        "colab": {
          "base_uri": "https://localhost:8080/"
        },
        "id": "ubfeFsqMFLfq",
        "outputId": "13bb751c-f280-4817-9255-d9969e3eb500"
      },
      "execution_count": 7,
      "outputs": [
        {
          "output_type": "stream",
          "name": "stdout",
          "text": [
            "/content/myapp\n"
          ]
        }
      ]
    },
    {
      "cell_type": "code",
      "source": [
        "!tree ."
      ],
      "metadata": {
        "colab": {
          "base_uri": "https://localhost:8080/"
        },
        "id": "SV4eblkcFQqM",
        "outputId": "163acfaf-cdba-4ac6-bdbf-1ae7f2cb5c1f"
      },
      "execution_count": 10,
      "outputs": [
        {
          "output_type": "stream",
          "name": "stdout",
          "text": [
            "/bin/bash: line 1: tree: command not found\n"
          ]
        }
      ]
    },
    {
      "source": [
        "!apt-get install tree"
      ],
      "cell_type": "code",
      "metadata": {
        "colab": {
          "base_uri": "https://localhost:8080/"
        },
        "id": "MNND912uFoHZ",
        "outputId": "5fb5b3ba-ed8e-41fd-f0f6-7b8dd1c696ea"
      },
      "execution_count": 11,
      "outputs": [
        {
          "output_type": "stream",
          "name": "stdout",
          "text": [
            "Reading package lists... Done\n",
            "Building dependency tree... Done\n",
            "Reading state information... Done\n",
            "The following packages were automatically installed and are no longer required:\n",
            "  libbz2-dev libpkgconf3 libreadline-dev\n",
            "Use 'apt autoremove' to remove them.\n",
            "The following NEW packages will be installed:\n",
            "  tree\n",
            "0 upgraded, 1 newly installed, 0 to remove and 20 not upgraded.\n",
            "Need to get 47.9 kB of archives.\n",
            "After this operation, 116 kB of additional disk space will be used.\n",
            "Get:1 http://archive.ubuntu.com/ubuntu jammy/universe amd64 tree amd64 2.0.2-1 [47.9 kB]\n",
            "Fetched 47.9 kB in 0s (189 kB/s)\n",
            "Selecting previously unselected package tree.\n",
            "(Reading database ... 124917 files and directories currently installed.)\n",
            "Preparing to unpack .../tree_2.0.2-1_amd64.deb ...\n",
            "Unpacking tree (2.0.2-1) ...\n",
            "Setting up tree (2.0.2-1) ...\n",
            "Processing triggers for man-db (2.10.2-1) ...\n"
          ]
        }
      ]
    },
    {
      "source": [
        "!tree ."
      ],
      "cell_type": "code",
      "metadata": {
        "colab": {
          "base_uri": "https://localhost:8080/"
        },
        "id": "InePShSfFpEU",
        "outputId": "05ed199f-a8ad-4cdf-f3fd-8a6a2d4d8f6b"
      },
      "execution_count": 12,
      "outputs": [
        {
          "output_type": "stream",
          "name": "stdout",
          "text": [
            "\u001b[01;34m.\u001b[0m\n",
            "├── \u001b[00mCargo.toml\u001b[0m\n",
            "└── \u001b[01;34msrc\u001b[0m\n",
            "    └── \u001b[00mmain.rs\u001b[0m\n",
            "\n",
            "1 directory, 2 files\n"
          ]
        }
      ]
    },
    {
      "cell_type": "code",
      "source": [
        "!cargo add --git https://github.com/huggingface/candle.git candle-core --features \"cpu\""
      ],
      "metadata": {
        "colab": {
          "base_uri": "https://localhost:8080/"
        },
        "id": "1nwg8c7ZFXSi",
        "outputId": "d9fc2d7e-da41-4255-9fc5-9f1d4592a579"
      },
      "execution_count": 13,
      "outputs": [
        {
          "output_type": "stream",
          "name": "stdout",
          "text": [
            "\u001b[1m\u001b[32m    Updating\u001b[0m git repository `https://github.com/huggingface/candle.git`\n",
            "\u001b[1m\u001b[32m    Updating\u001b[0m git submodule `https://github.com/NVIDIA/cutlass.git`\n",
            "\u001b[1m\u001b[32m      Adding\u001b[0m candle-core (git) to dependencies\n",
            "\u001b[1m\u001b[31merror\u001b[0m\u001b[1m:\u001b[0m unrecognized feature for crate candle-core: cpu\n",
            "disabled features:\n",
            "    accelerate, cuda, cudarc, cudnn, metal, mkl\n"
          ]
        }
      ]
    },
    {
      "cell_type": "markdown",
      "source": [
        "    Updating git repository `https://github.com/huggingface/candle.git`\n",
        "    Updating git submodule `https://github.com/NVIDIA/cutlass.git`\n",
        "      Adding candle-core (git) to dependencies\n",
        "error: unrecognized feature for crate candle-core: cpu\n",
        "disabled features:\n",
        "    accelerate, cuda, cudarc, cudnn, metal, mkl"
      ],
      "metadata": {
        "id": "hSny9SE_LxKT"
      }
    },
    {
      "cell_type": "code",
      "source": [
        "!cargo add --git https://github.com/huggingface/candle.git candle-core"
      ],
      "metadata": {
        "colab": {
          "base_uri": "https://localhost:8080/"
        },
        "id": "1imfREsTLqVd",
        "outputId": "5c797d93-6b8d-436e-87cf-63d0957ef695"
      },
      "execution_count": 14,
      "outputs": [
        {
          "output_type": "stream",
          "name": "stdout",
          "text": [
            "\u001b[1m\u001b[32m    Updating\u001b[0m git repository `https://github.com/huggingface/candle.git`\n",
            "\u001b[1m\u001b[32m      Adding\u001b[0m candle-core (git) to dependencies\n",
            "             Features:\n",
            "             \u001b[1m\u001b[31m-\u001b[0m accelerate\n",
            "             \u001b[1m\u001b[31m-\u001b[0m cuda\n",
            "             \u001b[1m\u001b[31m-\u001b[0m cudarc\n",
            "             \u001b[1m\u001b[31m-\u001b[0m cudnn\n",
            "             \u001b[1m\u001b[31m-\u001b[0m metal\n",
            "             \u001b[1m\u001b[31m-\u001b[0m mkl\n",
            "\u001b[1m\u001b[32m    Updating\u001b[0m git repository `https://github.com/huggingface/candle.git`\n",
            "\u001b[1m\u001b[32m    Updating\u001b[0m crates.io index\n",
            "\u001b[1m\u001b[32m     Locking\u001b[0m 118 packages to latest compatible versions\n"
          ]
        }
      ]
    },
    {
      "cell_type": "code",
      "source": [
        "!cargo add --git https://github.com/huggingface/candle.git candle-core"
      ],
      "metadata": {
        "colab": {
          "base_uri": "https://localhost:8080/"
        },
        "id": "3PtYJqGML8mb",
        "outputId": "f06edbac-1be2-4504-f927-ba7df0b16620"
      },
      "execution_count": 15,
      "outputs": [
        {
          "output_type": "stream",
          "name": "stdout",
          "text": [
            "\u001b[1m\u001b[32m    Updating\u001b[0m git repository `https://github.com/huggingface/candle.git`\n",
            "\u001b[1m\u001b[32m      Adding\u001b[0m candle-core (git) to dependencies\n",
            "             Features:\n",
            "             \u001b[1m\u001b[31m-\u001b[0m accelerate\n",
            "             \u001b[1m\u001b[31m-\u001b[0m cuda\n",
            "             \u001b[1m\u001b[31m-\u001b[0m cudarc\n",
            "             \u001b[1m\u001b[31m-\u001b[0m cudnn\n",
            "             \u001b[1m\u001b[31m-\u001b[0m metal\n",
            "             \u001b[1m\u001b[31m-\u001b[0m mkl\n"
          ]
        }
      ]
    },
    {
      "cell_type": "code",
      "source": [
        "!cargo build"
      ],
      "metadata": {
        "colab": {
          "base_uri": "https://localhost:8080/"
        },
        "id": "u05MBvNXMDiD",
        "outputId": "5bc30547-64f1-443c-bac4-d5c982aaf1e0"
      },
      "execution_count": 16,
      "outputs": [
        {
          "output_type": "stream",
          "name": "stdout",
          "text": [
            "\u001b[1m\u001b[32m Downloading\u001b[0m crates ...\n",
            "\u001b[1m\u001b[32m  Downloaded\u001b[0m cfg-if v1.0.0\n",
            "\u001b[1m\u001b[32m  Downloaded\u001b[0m bytemuck_derive v1.8.1\n",
            "\u001b[1m\u001b[32m  Downloaded\u001b[0m autocfg v1.4.0\n",
            "\u001b[1m\u001b[32m  Downloaded\u001b[0m crc32fast v1.4.2\n",
            "\u001b[1m\u001b[32m  Downloaded\u001b[0m byteorder v1.5.0\n",
            "\u001b[1m\u001b[32m  Downloaded\u001b[0m bytemuck v1.21.0\n",
            "\u001b[1m\u001b[32m  Downloaded\u001b[0m bitflags v2.8.0\n",
            "\u001b[1m\u001b[32m  Downloaded\u001b[0m bitflags v1.3.2\n",
            "\u001b[1m\u001b[32m  Downloaded\u001b[0m reborrow v0.5.5\n",
            "\u001b[1m\u001b[32m  Downloaded\u001b[0m equivalent v1.0.1\n",
            "\u001b[1m\u001b[32m  Downloaded\u001b[0m gemm-f64 v0.18.2\n",
            "\u001b[1m\u001b[32m  Downloaded\u001b[0m gemm-f32 v0.17.1\n",
            "\u001b[1m\u001b[32m  Downloaded\u001b[0m gemm-c64 v0.17.1\n",
            "\u001b[1m\u001b[32m  Downloaded\u001b[0m gemm v0.17.1\n",
            "\u001b[1m\u001b[32m  Downloaded\u001b[0m zerofrom v0.1.5\n",
            "\u001b[1m\u001b[32m  Downloaded\u001b[0m yoke-derive v0.7.5\n",
            "\u001b[1m\u001b[32m  Downloaded\u001b[0m zerofrom-derive v0.1.5\n",
            "\u001b[1m\u001b[32m  Downloaded\u001b[0m gemm v0.18.2\n",
            "\u001b[1m\u001b[32m  Downloaded\u001b[0m version_check v0.9.5\n",
            "\u001b[1m\u001b[32m  Downloaded\u001b[0m zerocopy-derive v0.7.35\n",
            "\u001b[1m\u001b[32m  Downloaded\u001b[0m yoke v0.7.5\n",
            "\u001b[1m\u001b[32m  Downloaded\u001b[0m tracing-core v0.1.33\n",
            "\u001b[1m\u001b[32m  Downloaded\u001b[0m ug v0.1.0\n",
            "\u001b[1m\u001b[32m  Downloaded\u001b[0m zip v1.1.4\n",
            "\u001b[1m\u001b[32m  Downloaded\u001b[0m raw-cpuid v11.3.0\n",
            "\u001b[1m\u001b[32m  Downloaded\u001b[0m zerocopy v0.7.35\n",
            "\u001b[1m\u001b[32m  Downloaded\u001b[0m winnow v0.7.2\n",
            "\u001b[1m\u001b[32m  Downloaded\u001b[0m serde_json v1.0.138\n",
            "\u001b[1m\u001b[32m  Downloaded\u001b[0m rayon v1.10.0\n",
            "\u001b[1m\u001b[32m  Downloaded\u001b[0m pulp v0.21.4\n",
            "\u001b[1m\u001b[32m  Downloaded\u001b[0m hashbrown v0.15.2\n",
            "\u001b[1m\u001b[32m  Downloaded\u001b[0m pulp v0.18.22\n",
            "\u001b[1m\u001b[32m  Downloaded\u001b[0m libm v0.2.11\n",
            "\u001b[1m\u001b[32m  Downloaded\u001b[0m raw-cpuid v10.7.0\n",
            "\u001b[1m\u001b[32m  Downloaded\u001b[0m syn v2.0.98\n",
            "\u001b[1m\u001b[32m  Downloaded\u001b[0m num-bigint v0.4.6\n",
            "\u001b[1m\u001b[32m  Downloaded\u001b[0m indexmap v2.7.1\n",
            "\u001b[1m\u001b[32m  Downloaded\u001b[0m toml_edit v0.22.24\n",
            "\u001b[1m\u001b[32m  Downloaded\u001b[0m rand v0.8.5\n",
            "\u001b[1m\u001b[32m  Downloaded\u001b[0m memchr v2.7.4\n",
            "\u001b[1m\u001b[32m  Downloaded\u001b[0m tracing v0.1.41\n",
            "\u001b[1m\u001b[32m  Downloaded\u001b[0m serde v1.0.217\n",
            "\u001b[1m\u001b[32m  Downloaded\u001b[0m rayon-core v1.12.1\n",
            "\u001b[1m\u001b[32m  Downloaded\u001b[0m rand_distr v0.4.3\n",
            "\u001b[1m\u001b[32m  Downloaded\u001b[0m num-rational v0.4.2\n",
            "\u001b[1m\u001b[32m  Downloaded\u001b[0m half v2.4.1\n",
            "\u001b[1m\u001b[32m  Downloaded\u001b[0m crossbeam-utils v0.8.21\n",
            "\u001b[1m\u001b[32m  Downloaded\u001b[0m serde_derive v1.0.217\n",
            "\u001b[1m\u001b[32m  Downloaded\u001b[0m ryu v1.0.19\n",
            "\u001b[1m\u001b[32m  Downloaded\u001b[0m proc-macro2 v1.0.93\n",
            "\u001b[1m\u001b[32m  Downloaded\u001b[0m once_cell v1.20.3\n",
            "\u001b[1m\u001b[32m  Downloaded\u001b[0m num-traits v0.2.19\n",
            "\u001b[1m\u001b[32m  Downloaded\u001b[0m getrandom v0.2.15\n",
            "\u001b[1m\u001b[32m  Downloaded\u001b[0m gemm-f16 v0.18.2\n",
            "\u001b[1m\u001b[32m  Downloaded\u001b[0m gemm-common v0.18.2\n",
            "\u001b[1m\u001b[32m  Downloaded\u001b[0m gemm-common v0.17.1\n",
            "\u001b[1m\u001b[32m  Downloaded\u001b[0m crossbeam-epoch v0.9.18\n",
            "\u001b[1m\u001b[32m  Downloaded\u001b[0m unicode-ident v1.0.16\n",
            "\u001b[1m\u001b[32m  Downloaded\u001b[0m quote v1.0.38\n",
            "\u001b[1m\u001b[32m  Downloaded\u001b[0m pin-project-lite v0.2.16\n",
            "\u001b[1m\u001b[32m  Downloaded\u001b[0m libc v0.2.169\n",
            "\u001b[1m\u001b[32m  Downloaded\u001b[0m num-integer v0.1.46\n",
            "\u001b[1m\u001b[32m  Downloaded\u001b[0m num-complex v0.4.6\n",
            "\u001b[1m\u001b[32m  Downloaded\u001b[0m memmap2 v0.9.5\n",
            "\u001b[1m\u001b[32m  Downloaded\u001b[0m libloading v0.8.6\n",
            "\u001b[1m\u001b[32m  Downloaded\u001b[0m displaydoc v0.2.5\n",
            "\u001b[1m\u001b[32m  Downloaded\u001b[0m crossbeam-deque v0.8.6\n",
            "\u001b[1m\u001b[32m  Downloaded\u001b[0m tracing-attributes v0.1.28\n",
            "\u001b[1m\u001b[32m  Downloaded\u001b[0m thiserror-impl v1.0.69\n",
            "\u001b[1m\u001b[32m  Downloaded\u001b[0m synstructure v0.13.1\n",
            "\u001b[1m\u001b[32m  Downloaded\u001b[0m seq-macro v0.3.5\n",
            "\u001b[1m\u001b[32m  Downloaded\u001b[0m rand_chacha v0.3.1\n",
            "\u001b[1m\u001b[32m  Downloaded\u001b[0m proc-macro-crate v3.2.0\n",
            "\u001b[1m\u001b[32m  Downloaded\u001b[0m ppv-lite86 v0.2.20\n",
            "\u001b[1m\u001b[32m  Downloaded\u001b[0m paste v1.0.15\n",
            "\u001b[1m\u001b[32m  Downloaded\u001b[0m num_enum v0.7.3\n",
            "\u001b[1m\u001b[32m  Downloaded\u001b[0m num-iter v0.1.45\n",
            "\u001b[1m\u001b[32m  Downloaded\u001b[0m num v0.4.3\n",
            "\u001b[1m\u001b[32m  Downloaded\u001b[0m gemm-f16 v0.17.1\n",
            "\u001b[1m\u001b[32m  Downloaded\u001b[0m either v1.13.0\n",
            "\u001b[1m\u001b[32m  Downloaded\u001b[0m dyn-stack v0.13.0\n",
            "\u001b[1m\u001b[32m  Downloaded\u001b[0m dyn-stack v0.10.0\n",
            "\u001b[1m\u001b[32m  Downloaded\u001b[0m thiserror v1.0.69\n",
            "\u001b[1m\u001b[32m  Downloaded\u001b[0m stable_deref_trait v1.2.0\n",
            "\u001b[1m\u001b[32m  Downloaded\u001b[0m safetensors v0.4.5\n",
            "\u001b[1m\u001b[32m  Downloaded\u001b[0m num_cpus v1.16.0\n",
            "\u001b[1m\u001b[32m  Downloaded\u001b[0m gemm-c64 v0.18.2\n",
            "\u001b[1m\u001b[32m  Downloaded\u001b[0m toml_datetime v0.6.8\n",
            "\u001b[1m\u001b[32m  Downloaded\u001b[0m rand_core v0.6.4\n",
            "\u001b[1m\u001b[32m  Downloaded\u001b[0m num_enum_derive v0.7.3\n",
            "\u001b[1m\u001b[32m  Downloaded\u001b[0m itoa v1.0.14\n",
            "\u001b[1m\u001b[32m  Downloaded\u001b[0m gemm-f64 v0.17.1\n",
            "\u001b[1m\u001b[32m  Downloaded\u001b[0m gemm-f32 v0.18.2\n",
            "\u001b[1m\u001b[32m  Downloaded\u001b[0m gemm-c32 v0.18.2\n",
            "\u001b[1m\u001b[32m  Downloaded\u001b[0m gemm-c32 v0.17.1\n",
            "\u001b[1m\u001b[32m   Compiling\u001b[0m proc-macro2 v1.0.93\n",
            "\u001b[1m\u001b[32m   Compiling\u001b[0m unicode-ident v1.0.16\n",
            "\u001b[1m\u001b[32m   Compiling\u001b[0m libm v0.2.11\n",
            "\u001b[1m\u001b[32m   Compiling\u001b[0m autocfg v1.4.0\n",
            "\u001b[1m\u001b[32m   Compiling\u001b[0m num-traits v0.2.19\n",
            "\u001b[1m\u001b[32m   Compiling\u001b[0m quote v1.0.38\n",
            "\u001b[1m\u001b[32m   Compiling\u001b[0m syn v2.0.98\n",
            "\u001b[1m\u001b[32m   Compiling\u001b[0m cfg-if v1.0.0\n",
            "\u001b[1m\u001b[32m   Compiling\u001b[0m libc v0.2.169\n",
            "\u001b[1m\u001b[32m   Compiling\u001b[0m byteorder v1.5.0\n",
            "\u001b[1m\u001b[32m   Compiling\u001b[0m crossbeam-utils v0.8.21\n",
            "\u001b[1m\u001b[32m   Compiling\u001b[0m getrandom v0.2.15\n",
            "\u001b[1m\u001b[32m   Compiling\u001b[0m rand_core v0.6.4\n",
            "\u001b[1m\u001b[32m   Compiling\u001b[0m crossbeam-epoch v0.9.18\n",
            "\u001b[1m\u001b[32m   Compiling\u001b[0m reborrow v0.5.5\n",
            "\u001b[1m\u001b[32m   Compiling\u001b[0m rayon-core v1.12.1\n",
            "\u001b[1m\u001b[32m   Compiling\u001b[0m crossbeam-deque v0.8.6\n",
            "\u001b[1m\u001b[32m   Compiling\u001b[0m paste v1.0.15\n",
            "\u001b[1m\u001b[32m   Compiling\u001b[0m once_cell v1.20.3\n",
            "\u001b[1m\u001b[32m   Compiling\u001b[0m either v1.13.0\n",
            "\u001b[1m\u001b[32m   Compiling\u001b[0m rayon v1.10.0\n",
            "\u001b[1m\u001b[32m   Compiling\u001b[0m bytemuck_derive v1.8.1\n",
            "\u001b[1m\u001b[32m   Compiling\u001b[0m bytemuck v1.21.0\n",
            "\u001b[1m\u001b[32m   Compiling\u001b[0m zerocopy-derive v0.7.35\n",
            "\u001b[1m\u001b[32m   Compiling\u001b[0m num-complex v0.4.6\n",
            "\u001b[1m\u001b[32m   Compiling\u001b[0m zerocopy v0.7.35\n",
            "\u001b[1m\u001b[32m   Compiling\u001b[0m seq-macro v0.3.5\n",
            "\u001b[1m\u001b[32m   Compiling\u001b[0m ppv-lite86 v0.2.20\n",
            "\u001b[1m\u001b[32m   Compiling\u001b[0m version_check v0.9.5\n",
            "\u001b[1m\u001b[32m   Compiling\u001b[0m pulp v0.21.4\n",
            "\u001b[1m\u001b[32m   Compiling\u001b[0m bitflags v2.8.0\n",
            "\u001b[1m\u001b[32m   Compiling\u001b[0m rand_chacha v0.3.1\n",
            "\u001b[1m\u001b[32m   Compiling\u001b[0m raw-cpuid v11.3.0\n",
            "\u001b[1m\u001b[32m   Compiling\u001b[0m rand v0.8.5\n",
            "\u001b[1m\u001b[32m   Compiling\u001b[0m rand_distr v0.4.3\n",
            "\u001b[1m\u001b[32m   Compiling\u001b[0m half v2.4.1\n",
            "\u001b[1m\u001b[32m   Compiling\u001b[0m dyn-stack v0.13.0\n",
            "\u001b[1m\u001b[32m   Compiling\u001b[0m bitflags v1.3.2\n",
            "\u001b[1m\u001b[32m   Compiling\u001b[0m raw-cpuid v10.7.0\n",
            "\u001b[1m\u001b[32m   Compiling\u001b[0m pulp v0.18.22\n",
            "\u001b[1m\u001b[32m   Compiling\u001b[0m gemm-common v0.18.2\n",
            "\u001b[1m\u001b[32m   Compiling\u001b[0m dyn-stack v0.10.0\n",
            "\u001b[1m\u001b[32m   Compiling\u001b[0m hashbrown v0.15.2\n",
            "\u001b[1m\u001b[32m   Compiling\u001b[0m gemm-common v0.17.1\n",
            "\u001b[1m\u001b[32m   Compiling\u001b[0m equivalent v1.0.1\n",
            "\u001b[1m\u001b[32m   Compiling\u001b[0m indexmap v2.7.1\n",
            "\u001b[1m\u001b[32m   Compiling\u001b[0m synstructure v0.13.1\n",
            "\u001b[1m\u001b[32m   Compiling\u001b[0m num-integer v0.1.46\n",
            "\u001b[1m\u001b[32m   Compiling\u001b[0m winnow v0.7.2\n",
            "\u001b[1m\u001b[32m   Compiling\u001b[0m toml_datetime v0.6.8\n",
            "\u001b[1m\u001b[32m   Compiling\u001b[0m serde v1.0.217\n",
            "\u001b[1m\u001b[32m   Compiling\u001b[0m serde_derive v1.0.217\n",
            "\u001b[1m\u001b[32m   Compiling\u001b[0m toml_edit v0.22.24\n",
            "\u001b[1m\u001b[32m   Compiling\u001b[0m serde_json v1.0.138\n",
            "\u001b[1m\u001b[32m   Compiling\u001b[0m thiserror v1.0.69\n",
            "\u001b[1m\u001b[32m   Compiling\u001b[0m proc-macro-crate v3.2.0\n",
            "\u001b[1m\u001b[32m   Compiling\u001b[0m num-bigint v0.4.6\n",
            "\u001b[1m\u001b[32m   Compiling\u001b[0m zerofrom-derive v0.1.5\n",
            "\u001b[1m\u001b[32m   Compiling\u001b[0m gemm-f32 v0.18.2\n",
            "\u001b[1m\u001b[32m   Compiling\u001b[0m thiserror-impl v1.0.69\n",
            "\u001b[1m\u001b[32m   Compiling\u001b[0m itoa v1.0.14\n",
            "\u001b[1m\u001b[32m   Compiling\u001b[0m stable_deref_trait v1.2.0\n",
            "\u001b[1m\u001b[32m   Compiling\u001b[0m ryu v1.0.19\n",
            "\u001b[1m\u001b[32m   Compiling\u001b[0m memchr v2.7.4\n",
            "\u001b[1m\u001b[32m   Compiling\u001b[0m zerofrom v0.1.5\n",
            "\u001b[1m\u001b[32m   Compiling\u001b[0m gemm-f16 v0.18.2\n",
            "\u001b[1m\u001b[32m   Compiling\u001b[0m num-rational v0.4.2\n",
            "\u001b[1m\u001b[32m   Compiling\u001b[0m num_enum_derive v0.7.3\n",
            "\u001b[1m\u001b[32m   Compiling\u001b[0m num-iter v0.1.45\n",
            "\u001b[1m\u001b[32m   Compiling\u001b[0m yoke-derive v0.7.5\n",
            "\u001b[1m\u001b[32m   Compiling\u001b[0m gemm-f32 v0.17.1\n",
            "\u001b[1m\u001b[32m   Compiling\u001b[0m gemm-f64 v0.18.2\n",
            "\u001b[1m\u001b[32m   Compiling\u001b[0m gemm-c64 v0.18.2\n",
            "\u001b[1m\u001b[32m   Compiling\u001b[0m gemm-c32 v0.18.2\n",
            "\u001b[1m\u001b[32m   Compiling\u001b[0m tracing-attributes v0.1.28\n",
            "\u001b[1m\u001b[32m   Compiling\u001b[0m tracing-core v0.1.33\n",
            "\u001b[1m\u001b[32m   Compiling\u001b[0m pin-project-lite v0.2.16\n",
            "\u001b[1m\u001b[32m   Compiling\u001b[0m zip v1.1.4\n",
            "\u001b[1m\u001b[32m   Compiling\u001b[0m gemm v0.18.2\n",
            "\u001b[1m\u001b[32m   Compiling\u001b[0m gemm-f16 v0.17.1\n",
            "\u001b[1m\u001b[32m   Compiling\u001b[0m tracing v0.1.41\n",
            "\u001b[1m\u001b[32m   Compiling\u001b[0m yoke v0.7.5\n",
            "\u001b[1m\u001b[32m   Compiling\u001b[0m num_enum v0.7.3\n",
            "\u001b[1m\u001b[32m   Compiling\u001b[0m num v0.4.3\n",
            "\u001b[1m\u001b[32m   Compiling\u001b[0m safetensors v0.4.5\n",
            "\u001b[1m\u001b[32m   Compiling\u001b[0m memmap2 v0.9.5\n",
            "\u001b[1m\u001b[32m   Compiling\u001b[0m gemm-c32 v0.17.1\n",
            "\u001b[1m\u001b[32m   Compiling\u001b[0m gemm-c64 v0.17.1\n",
            "\u001b[1m\u001b[32m   Compiling\u001b[0m gemm-f64 v0.17.1\n",
            "\u001b[1m\u001b[32m   Compiling\u001b[0m displaydoc v0.2.5\n",
            "\u001b[1m\u001b[32m   Compiling\u001b[0m num_cpus v1.16.0\n",
            "\u001b[1m\u001b[32m   Compiling\u001b[0m libloading v0.8.6\n",
            "\u001b[1m\u001b[32m   Compiling\u001b[0m crc32fast v1.4.2\n",
            "\u001b[1m\u001b[32m   Compiling\u001b[0m ug v0.1.0\n",
            "\u001b[1m\u001b[32m   Compiling\u001b[0m gemm v0.17.1\n",
            "\u001b[1m\u001b[32m   Compiling\u001b[0m candle-core v0.8.2 (https://github.com/huggingface/candle.git#2423d633)\n",
            "\u001b[1m\u001b[32m   Compiling\u001b[0m myapp v0.1.0 (/content/myapp)\n",
            "\u001b[1m\u001b[32m    Finished\u001b[0m `dev` profile [unoptimized + debuginfo] target(s) in 2m 01s\n"
          ]
        }
      ]
    },
    {
      "cell_type": "code",
      "source": [
        "!git clone https://github.com/huggingface/candle.git"
      ],
      "metadata": {
        "colab": {
          "base_uri": "https://localhost:8080/"
        },
        "id": "qQC6S10hMKPj",
        "outputId": "7a8cc23b-c0b4-48b8-917f-0b5201e04148"
      },
      "execution_count": 17,
      "outputs": [
        {
          "output_type": "stream",
          "name": "stdout",
          "text": [
            "Cloning into 'candle'...\n",
            "remote: Enumerating objects: 21168, done.\u001b[K\n",
            "remote: Counting objects: 100% (4557/4557), done.\u001b[K\n",
            "remote: Compressing objects: 100% (480/480), done.\u001b[K\n",
            "remote: Total 21168 (delta 4257), reused 4083 (delta 4077), pack-reused 16611 (from 2)\u001b[K\n",
            "Receiving objects: 100% (21168/21168), 11.82 MiB | 20.58 MiB/s, done.\n",
            "Resolving deltas: 100% (14533/14533), done.\n"
          ]
        }
      ]
    },
    {
      "cell_type": "code",
      "source": [
        "%cd /content/myapp/candle/candle-examples"
      ],
      "metadata": {
        "colab": {
          "base_uri": "https://localhost:8080/"
        },
        "id": "8ET9jphzM6p1",
        "outputId": "c87b1750-a5fb-4e4c-fa9a-7a61ce9733dc"
      },
      "execution_count": 18,
      "outputs": [
        {
          "output_type": "stream",
          "name": "stdout",
          "text": [
            "/content/myapp/candle/candle-examples\n"
          ]
        }
      ]
    },
    {
      "cell_type": "markdown",
      "source": [
        "tree/main/candle-examples/examples/phi"
      ],
      "metadata": {
        "id": "82VFWrWUO12c"
      }
    },
    {
      "cell_type": "code",
      "source": [
        "!cargo run --example phi --release -- --model 2 \\\n",
        "  --prompt \"A skier slides down a frictionless slope of height 40m and length 80m. What's the skier speed at the bottom?\"\n"
      ],
      "metadata": {
        "colab": {
          "base_uri": "https://localhost:8080/"
        },
        "id": "OiU7OcrvNGxj",
        "outputId": "b5b5b0f5-98ae-4765-d3c1-64b2f4ccf0f2"
      },
      "execution_count": 19,
      "outputs": [
        {
          "output_type": "stream",
          "name": "stdout",
          "text": [
            "\u001b[1m\u001b[32m    Updating\u001b[0m crates.io index\n",
            "\u001b[1m\u001b[32m     Locking\u001b[0m 620 packages to latest compatible versions\n",
            "\u001b[1m\u001b[36m      Adding\u001b[0m anstyle-wincon v3.0.6 \u001b[1m\u001b[33m(available: v3.0.7)\u001b[0m\n",
            "\u001b[1m\u001b[36m      Adding\u001b[0m fancy-regex v0.13.0 \u001b[1m\u001b[33m(available: v0.14.0)\u001b[0m\n",
            "\u001b[1m\u001b[36m      Adding\u001b[0m gemm v0.17.1 \u001b[1m\u001b[33m(available: v0.18.2)\u001b[0m\n",
            "\u001b[1m\u001b[36m      Adding\u001b[0m getrandom v0.2.15 \u001b[1m\u001b[33m(available: v0.3.1)\u001b[0m\n",
            "\u001b[1m\u001b[36m      Adding\u001b[0m imageproc v0.24.0 \u001b[1m\u001b[33m(available: v0.25.0)\u001b[0m\n",
            "\u001b[1m\u001b[36m      Adding\u001b[0m metal v0.27.0 \u001b[1m\u001b[33m(available: v0.31.0)\u001b[0m\n",
            "\u001b[1m\u001b[36m      Adding\u001b[0m once_cell v1.19.0 \u001b[1m\u001b[33m(available: v1.20.3)\u001b[0m\n",
            "\u001b[1m\u001b[36m      Adding\u001b[0m parquet v51.0.0 \u001b[1m\u001b[33m(available: v54.1.0)\u001b[0m\n",
            "\u001b[1m\u001b[36m      Adding\u001b[0m pyo3 v0.22.6 \u001b[1m\u001b[33m(available: v0.23.4)\u001b[0m\n",
            "\u001b[1m\u001b[36m      Adding\u001b[0m pyo3-build-config v0.22.6 \u001b[1m\u001b[33m(available: v0.23.4)\u001b[0m\n",
            "\u001b[1m\u001b[36m      Adding\u001b[0m rand v0.8.5 \u001b[1m\u001b[33m(available: v0.9.0)\u001b[0m\n",
            "\u001b[1m\u001b[36m      Adding\u001b[0m rand_distr v0.4.3 \u001b[1m\u001b[33m(available: v0.5.0)\u001b[0m\n",
            "\u001b[1m\u001b[36m      Adding\u001b[0m regex v1.10.6 \u001b[1m\u001b[33m(available: v1.11.1)\u001b[0m\n",
            "\u001b[1m\u001b[36m      Adding\u001b[0m rubato v0.15.0 \u001b[1m\u001b[33m(available: v0.16.1)\u001b[0m\n",
            "\u001b[1m\u001b[36m      Adding\u001b[0m safetensors v0.4.5 \u001b[1m\u001b[33m(available: v0.5.2)\u001b[0m\n",
            "\u001b[1m\u001b[36m      Adding\u001b[0m thiserror v1.0.69 \u001b[1m\u001b[33m(available: v2.0.11)\u001b[0m\n",
            "\u001b[1m\u001b[36m      Adding\u001b[0m tokenizers v0.19.1 \u001b[1m\u001b[33m(available: v0.21.0)\u001b[0m\n",
            "\u001b[1m\u001b[36m      Adding\u001b[0m wasm-bindgen-futures v0.4.45 \u001b[1m\u001b[33m(available: v0.4.50)\u001b[0m\n",
            "\u001b[1m\u001b[36m      Adding\u001b[0m wasm-bindgen-test v0.3.45 \u001b[1m\u001b[33m(available: v0.3.50)\u001b[0m\n",
            "\u001b[1m\u001b[36m      Adding\u001b[0m wasm-bindgen-test-macro v0.3.45 \u001b[1m\u001b[33m(available: v0.3.50)\u001b[0m\n",
            "\u001b[1m\u001b[36m      Adding\u001b[0m wasm-streams v0.4.1 \u001b[1m\u001b[33m(available: v0.4.2)\u001b[0m\n",
            "\u001b[1m\u001b[36m      Adding\u001b[0m web-sys v0.3.70 \u001b[1m\u001b[33m(available: v0.3.77)\u001b[0m\n",
            "\u001b[1m\u001b[36m      Adding\u001b[0m yew v0.20.0 \u001b[1m\u001b[33m(available: v0.21.0)\u001b[0m\n",
            "\u001b[1m\u001b[36m      Adding\u001b[0m yew-agent v0.2.0 \u001b[1m\u001b[33m(available: v0.3.0)\u001b[0m\n",
            "\u001b[1m\u001b[36m      Adding\u001b[0m zip v1.1.4 \u001b[1m\u001b[33m(available: v2.2.2)\u001b[0m\n",
            "\u001b[1m\u001b[32m Downloading\u001b[0m crates ...\n",
            "\u001b[1m\u001b[32m  Downloaded\u001b[0m ab_glyph_rasterizer v0.1.8\n",
            "\u001b[1m\u001b[32m  Downloaded\u001b[0m anstream v0.6.18\n",
            "\u001b[1m\u001b[32m  Downloaded\u001b[0m adler2 v2.0.0\n",
            "\u001b[1m\u001b[32m  Downloaded\u001b[0m anstyle-parse v0.2.6\n",
            "\u001b[1m\u001b[32m  Downloaded\u001b[0m monostate-impl v0.1.13\n",
            "\u001b[1m\u001b[32m  Downloaded\u001b[0m icu_provider_macros v1.5.0\n",
            "\u001b[1m\u001b[32m  Downloaded\u001b[0m option-ext v0.2.0\n",
            "\u001b[1m\u001b[32m  Downloaded\u001b[0m ident_case v1.0.1\n",
            "\u001b[1m\u001b[32m  Downloaded\u001b[0m http-body v1.0.1\n",
            "\u001b[1m\u001b[32m  Downloaded\u001b[0m foreign-types v0.3.2\n",
            "\u001b[1m\u001b[32m  Downloaded\u001b[0m openssl-macros v0.1.1\n",
            "\u001b[1m\u001b[32m  Downloaded\u001b[0m mime v0.3.17\n",
            "\u001b[1m\u001b[32m  Downloaded\u001b[0m percent-encoding v2.3.1\n",
            "\u001b[1m\u001b[32m  Downloaded\u001b[0m pin-utils v0.1.0\n",
            "\u001b[1m\u001b[32m  Downloaded\u001b[0m native-tls v0.2.13\n",
            "\u001b[1m\u001b[32m  Downloaded\u001b[0m openssl-probe v0.1.6\n",
            "\u001b[1m\u001b[32m  Downloaded\u001b[0m owned_ttf_parser v0.25.0\n",
            "\u001b[1m\u001b[32m  Downloaded\u001b[0m miniz_oxide v0.8.4\n",
            "\u001b[1m\u001b[32m  Downloaded\u001b[0m nalgebra v0.32.6\n",
            "\u001b[1m\u001b[32m  Downloaded\u001b[0m number_prefix v0.4.0\n",
            "\u001b[1m\u001b[32m  Downloaded\u001b[0m zune-core v0.4.12\n",
            "\u001b[1m\u001b[32m  Downloaded\u001b[0m zerovec-derive v0.10.3\n",
            "\u001b[1m\u001b[32m  Downloaded\u001b[0m onig v6.4.0\n",
            "\u001b[1m\u001b[32m  Downloaded\u001b[0m zune-jpeg v0.4.14\n",
            "\u001b[1m\u001b[32m  Downloaded\u001b[0m safe_arch v0.7.4\n",
            "\u001b[1m\u001b[32m  Downloaded\u001b[0m wide v0.7.32\n",
            "\u001b[1m\u001b[32m  Downloaded\u001b[0m unicode-segmentation v1.12.0\n",
            "\u001b[1m\u001b[32m  Downloaded\u001b[0m ureq v2.12.1\n",
            "\u001b[1m\u001b[32m  Downloaded\u001b[0m nom v7.1.3\n",
            "\u001b[1m\u001b[32m  Downloaded\u001b[0m tokenizers v0.19.1\n",
            "\u001b[1m\u001b[32m  Downloaded\u001b[0m regex v1.10.6\n",
            "\u001b[1m\u001b[32m  Downloaded\u001b[0m ttf-parser v0.25.1\n",
            "\u001b[1m\u001b[32m  Downloaded\u001b[0m tracing-subscriber v0.3.19\n",
            "\u001b[1m\u001b[32m  Downloaded\u001b[0m webpki-roots v0.26.8\n",
            "\u001b[1m\u001b[32m  Downloaded\u001b[0m vcpkg v0.2.15\n",
            "\u001b[1m\u001b[32m  Downloaded\u001b[0m unicode-width v0.2.0\n",
            "\u001b[1m\u001b[32m  Downloaded\u001b[0m openssl v0.10.70\n",
            "\u001b[1m\u001b[32m  Downloaded\u001b[0m regex-syntax v0.8.5\n",
            "\u001b[1m\u001b[32m  Downloaded\u001b[0m object v0.36.7\n",
            "\u001b[1m\u001b[32m  Downloaded\u001b[0m rustls v0.23.23\n",
            "\u001b[1m\u001b[32m  Downloaded\u001b[0m rustls-webpki v0.102.8\n",
            "\u001b[1m\u001b[32m  Downloaded\u001b[0m reqwest v0.12.12\n",
            "\u001b[1m\u001b[32m  Downloaded\u001b[0m gimli v0.31.1\n",
            "\u001b[1m\u001b[32m  Downloaded\u001b[0m zerovec v0.10.4\n",
            "\u001b[1m\u001b[32m  Downloaded\u001b[0m unicode-normalization-alignments v0.1.12\n",
            "\u001b[1m\u001b[32m  Downloaded\u001b[0m tower v0.5.2\n",
            "\u001b[1m\u001b[32m  Downloaded\u001b[0m tokio-util v0.7.13\n",
            "\u001b[1m\u001b[32m  Downloaded\u001b[0m png v0.17.16\n",
            "\u001b[1m\u001b[32m  Downloaded\u001b[0m url v2.5.4\n",
            "\u001b[1m\u001b[32m  Downloaded\u001b[0m spm_precompiled v0.1.4\n",
            "\u001b[1m\u001b[32m  Downloaded\u001b[0m unicode_categories v0.1.1\n",
            "\u001b[1m\u001b[32m  Downloaded\u001b[0m image v0.25.5\n",
            "\u001b[1m\u001b[32m  Downloaded\u001b[0m onig_sys v69.8.1\n",
            "\u001b[1m\u001b[32m  Downloaded\u001b[0m regex-automata v0.4.9\n",
            "\u001b[1m\u001b[32m  Downloaded\u001b[0m icu_properties_data v1.5.0\n",
            "\u001b[1m\u001b[32m  Downloaded\u001b[0m typenum v1.17.0\n",
            "\u001b[1m\u001b[32m  Downloaded\u001b[0m socket2 v0.5.8\n",
            "\u001b[1m\u001b[32m  Downloaded\u001b[0m simba v0.8.1\n",
            "\u001b[1m\u001b[32m  Downloaded\u001b[0m esaxx-rs v0.1.10\n",
            "\u001b[1m\u001b[32m  Downloaded\u001b[0m clap_builder v4.5.29\n",
            "\u001b[1m\u001b[32m  Downloaded\u001b[0m nu-ansi-term v0.46.0\n",
            "\u001b[1m\u001b[32m  Downloaded\u001b[0m socks v0.3.4\n",
            "\u001b[1m\u001b[32m  Downloaded\u001b[0m csv v1.3.1\n",
            "\u001b[1m\u001b[32m  Downloaded\u001b[0m smallvec v1.13.2\n",
            "\u001b[1m\u001b[32m  Downloaded\u001b[0m tokio v1.43.0\n",
            "\u001b[1m\u001b[32m  Downloaded\u001b[0m rustc-demangle v0.1.24\n",
            "\u001b[1m\u001b[32m  Downloaded\u001b[0m hyper v1.6.0\n",
            "\u001b[1m\u001b[32m  Downloaded\u001b[0m h2 v0.4.7\n",
            "\u001b[1m\u001b[32m  Downloaded\u001b[0m futures-util v0.3.31\n",
            "\u001b[1m\u001b[32m  Downloaded\u001b[0m writeable v0.5.5\n",
            "\u001b[1m\u001b[32m  Downloaded\u001b[0m tracing-log v0.2.0\n",
            "\u001b[1m\u001b[32m  Downloaded\u001b[0m tracing-chrome v0.7.2\n",
            "\u001b[1m\u001b[32m  Downloaded\u001b[0m strsim v0.11.1\n",
            "\u001b[1m\u001b[32m  Downloaded\u001b[0m itertools v0.12.1\n",
            "\u001b[1m\u001b[32m  Downloaded\u001b[0m zeroize v1.8.1\n",
            "\u001b[1m\u001b[32m  Downloaded\u001b[0m utf8parse v0.2.2\n",
            "\u001b[1m\u001b[32m  Downloaded\u001b[0m utf8_iter v1.0.4\n",
            "\u001b[1m\u001b[32m  Downloaded\u001b[0m utf16_iter v1.0.5\n",
            "\u001b[1m\u001b[32m  Downloaded\u001b[0m untrusted v0.9.0\n",
            "\u001b[1m\u001b[32m  Downloaded\u001b[0m try-lock v0.2.5\n",
            "\u001b[1m\u001b[32m  Downloaded\u001b[0m tower-layer v0.3.3\n",
            "\u001b[1m\u001b[32m  Downloaded\u001b[0m tokio-rustls v0.26.1\n",
            "\u001b[1m\u001b[32m  Downloaded\u001b[0m tokio-native-tls v0.3.1\n",
            "\u001b[1m\u001b[32m  Downloaded\u001b[0m tokio-macros v2.5.0\n",
            "\u001b[1m\u001b[32m  Downloaded\u001b[0m thread_local v1.1.8\n",
            "\u001b[1m\u001b[32m  Downloaded\u001b[0m thiserror-impl v2.0.11\n",
            "\u001b[1m\u001b[32m  Downloaded\u001b[0m thiserror v2.0.11\n",
            "\u001b[1m\u001b[32m  Downloaded\u001b[0m sync_wrapper v1.0.2\n",
            "\u001b[1m\u001b[32m  Downloaded\u001b[0m subtle v2.6.1\n",
            "\u001b[1m\u001b[32m  Downloaded\u001b[0m slab v0.4.9\n",
            "\u001b[1m\u001b[32m  Downloaded\u001b[0m simd-adler32 v0.3.7\n",
            "\u001b[1m\u001b[32m  Downloaded\u001b[0m sharded-slab v0.1.7\n",
            "\u001b[1m\u001b[32m  Downloaded\u001b[0m serde_urlencoded v0.7.1\n",
            "\u001b[1m\u001b[32m  Downloaded\u001b[0m serde_plain v1.0.2\n",
            "\u001b[1m\u001b[32m  Downloaded\u001b[0m encoding_rs v0.8.35\n",
            "\u001b[1m\u001b[32m  Downloaded\u001b[0m rustls-pki-types v1.11.0\n",
            "\u001b[1m\u001b[32m  Downloaded\u001b[0m rustls-pemfile v2.2.0\n",
            "\u001b[1m\u001b[32m  Downloaded\u001b[0m rawpointer v0.2.1\n",
            "\u001b[1m\u001b[32m  Downloaded\u001b[0m portable-atomic v1.10.0\n",
            "\u001b[1m\u001b[32m  Downloaded\u001b[0m pkg-config v0.3.31\n",
            "\u001b[1m\u001b[32m  Downloaded\u001b[0m ring v0.17.9\n",
            "\u001b[1m\u001b[32m  Downloaded\u001b[0m idna v1.0.3\n",
            "\u001b[1m\u001b[32m  Downloaded\u001b[0m cc v1.2.14\n",
            "\u001b[1m\u001b[32m  Downloaded\u001b[0m aho-corasick v1.1.3\n",
            "\u001b[1m\u001b[32m  Downloaded\u001b[0m write16 v1.0.0\n",
            "\u001b[1m\u001b[32m  Downloaded\u001b[0m want v0.3.1\n",
            "\u001b[1m\u001b[32m  Downloaded\u001b[0m tower-service v0.3.3\n",
            "\u001b[1m\u001b[32m  Downloaded\u001b[0m tinystr v0.7.6\n",
            "\u001b[1m\u001b[32m  Downloaded\u001b[0m shlex v1.3.0\n",
            "\u001b[1m\u001b[32m  Downloaded\u001b[0m rayon-cond v0.3.0\n",
            "\u001b[1m\u001b[32m  Downloaded\u001b[0m itertools v0.11.0\n",
            "\u001b[1m\u001b[32m  Downloaded\u001b[0m imageproc v0.24.0\n",
            "\u001b[1m\u001b[32m  Downloaded\u001b[0m icu_provider v1.5.0\n",
            "\u001b[1m\u001b[32m  Downloaded\u001b[0m http v1.2.0\n",
            "\u001b[1m\u001b[32m  Downloaded\u001b[0m flate2 v1.0.35\n",
            "\u001b[1m\u001b[32m  Downloaded\u001b[0m bytes v1.10.0\n",
            "\u001b[1m\u001b[32m  Downloaded\u001b[0m backtrace v0.3.74\n",
            "\u001b[1m\u001b[32m  Downloaded\u001b[0m mio v1.0.3\n",
            "\u001b[1m\u001b[32m  Downloaded\u001b[0m minimal-lexical v0.2.1\n",
            "\u001b[1m\u001b[32m  Downloaded\u001b[0m base64 v0.22.1\n",
            "\u001b[1m\u001b[32m  Downloaded\u001b[0m icu_properties v1.5.1\n",
            "\u001b[1m\u001b[32m  Downloaded\u001b[0m icu_collections v1.5.0\n",
            "\u001b[1m\u001b[32m  Downloaded\u001b[0m hf-hub v0.4.1\n",
            "\u001b[1m\u001b[32m  Downloaded\u001b[0m fancy-regex v0.13.0\n",
            "\u001b[1m\u001b[32m  Downloaded\u001b[0m darling_core v0.20.10\n",
            "\u001b[1m\u001b[32m  Downloaded\u001b[0m base64 v0.13.1\n",
            "\u001b[1m\u001b[32m  Downloaded\u001b[0m overload v0.1.1\n",
            "\u001b[1m\u001b[32m  Downloaded\u001b[0m openssl-sys v0.9.105\n",
            "\u001b[1m\u001b[32m  Downloaded\u001b[0m matrixmultiply v0.3.9\n",
            "\u001b[1m\u001b[32m  Downloaded\u001b[0m indicatif v0.17.11\n",
            "\u001b[1m\u001b[32m  Downloaded\u001b[0m icu_normalizer_data v1.5.0\n",
            "\u001b[1m\u001b[32m  Downloaded\u001b[0m icu_normalizer v1.5.0\n",
            "\u001b[1m\u001b[32m  Downloaded\u001b[0m icu_locid_transform_data v1.5.0\n",
            "\u001b[1m\u001b[32m  Downloaded\u001b[0m icu_locid v1.5.0\n",
            "\u001b[1m\u001b[32m  Downloaded\u001b[0m hyper-util v0.1.10\n",
            "\u001b[1m\u001b[32m  Downloaded\u001b[0m httparse v1.10.0\n",
            "\u001b[1m\u001b[32m  Downloaded\u001b[0m futures v0.3.31\n",
            "\u001b[1m\u001b[32m  Downloaded\u001b[0m derive_builder v0.20.2\n",
            "\u001b[1m\u001b[32m  Downloaded\u001b[0m clap v4.5.29\n",
            "\u001b[1m\u001b[32m  Downloaded\u001b[0m bit-vec v0.6.3\n",
            "\u001b[1m\u001b[32m  Downloaded\u001b[0m anyhow v1.0.95\n",
            "\u001b[1m\u001b[32m  Downloaded\u001b[0m once_cell v1.19.0\n",
            "\u001b[1m\u001b[32m  Downloaded\u001b[0m log v0.4.25\n",
            "\u001b[1m\u001b[32m  Downloaded\u001b[0m idna_adapter v1.2.0\n",
            "\u001b[1m\u001b[32m  Downloaded\u001b[0m hyper-tls v0.6.0\n",
            "\u001b[1m\u001b[32m  Downloaded\u001b[0m hyper-rustls v0.27.5\n",
            "\u001b[1m\u001b[32m  Downloaded\u001b[0m futures-task v0.3.31\n",
            "\u001b[1m\u001b[32m  Downloaded\u001b[0m futures-sink v0.3.31\n",
            "\u001b[1m\u001b[32m  Downloaded\u001b[0m futures-channel v0.3.31\n",
            "\u001b[1m\u001b[32m  Downloaded\u001b[0m fdeflate v0.3.7\n",
            "\u001b[1m\u001b[32m  Downloaded\u001b[0m derive_builder_core v0.20.2\n",
            "\u001b[1m\u001b[32m  Downloaded\u001b[0m darling v0.20.10\n",
            "\u001b[1m\u001b[32m  Downloaded\u001b[0m console v0.15.10\n",
            "\u001b[1m\u001b[32m  Downloaded\u001b[0m clap_derive v4.5.28\n",
            "\u001b[1m\u001b[32m  Downloaded\u001b[0m anstyle-query v1.1.2\n",
            "\u001b[1m\u001b[32m  Downloaded\u001b[0m macro_rules_attribute v0.2.0\n",
            "\u001b[1m\u001b[32m  Downloaded\u001b[0m litemap v0.7.4\n",
            "\u001b[1m\u001b[32m  Downloaded\u001b[0m ipnet v2.11.0\n",
            "\u001b[1m\u001b[32m  Downloaded\u001b[0m icu_locid_transform v1.5.0\n",
            "\u001b[1m\u001b[32m  Downloaded\u001b[0m futures-io v0.3.31\n",
            "\u001b[1m\u001b[32m  Downloaded\u001b[0m form_urlencoded v1.2.1\n",
            "\u001b[1m\u001b[32m  Downloaded\u001b[0m dirs v5.0.1\n",
            "\u001b[1m\u001b[32m  Downloaded\u001b[0m csv-core v0.1.12\n",
            "\u001b[1m\u001b[32m  Downloaded\u001b[0m conv v0.3.3\n",
            "\u001b[1m\u001b[32m  Downloaded\u001b[0m colorchoice v1.0.3\n",
            "\u001b[1m\u001b[32m  Downloaded\u001b[0m clap_lex v0.7.4\n",
            "\u001b[1m\u001b[32m  Downloaded\u001b[0m futures-executor v0.3.31\n",
            "\u001b[1m\u001b[32m  Downloaded\u001b[0m atomic-waker v1.1.2\n",
            "\u001b[1m\u001b[32m  Downloaded\u001b[0m addr2line v0.24.2\n",
            "\u001b[1m\u001b[32m  Downloaded\u001b[0m is_terminal_polyfill v1.70.1\n",
            "\u001b[1m\u001b[32m  Downloaded\u001b[0m http-body-util v0.1.2\n",
            "\u001b[1m\u001b[32m  Downloaded\u001b[0m heck v0.5.0\n",
            "\u001b[1m\u001b[32m  Downloaded\u001b[0m futures-core v0.3.31\n",
            "\u001b[1m\u001b[32m  Downloaded\u001b[0m fnv v1.0.7\n",
            "\u001b[1m\u001b[32m  Downloaded\u001b[0m dirs-sys v0.4.1\n",
            "\u001b[1m\u001b[32m  Downloaded\u001b[0m custom_derive v0.1.7\n",
            "\u001b[1m\u001b[32m  Downloaded\u001b[0m byteorder-lite v0.1.0\n",
            "\u001b[1m\u001b[32m  Downloaded\u001b[0m approx v0.5.1\n",
            "\u001b[1m\u001b[32m  Downloaded\u001b[0m macro_rules_attribute-proc_macro v0.2.0\n",
            "\u001b[1m\u001b[32m  Downloaded\u001b[0m lazy_static v1.5.0\n",
            "\u001b[1m\u001b[32m  Downloaded\u001b[0m futures-macro v0.3.31\n",
            "\u001b[1m\u001b[32m  Downloaded\u001b[0m bit-set v0.5.3\n",
            "\u001b[1m\u001b[32m  Downloaded\u001b[0m monostate v0.1.13\n",
            "\u001b[1m\u001b[32m  Downloaded\u001b[0m derive_builder_macro v0.20.2\n",
            "\u001b[1m\u001b[32m  Downloaded\u001b[0m anstyle v1.0.10\n",
            "\u001b[1m\u001b[32m  Downloaded\u001b[0m ab_glyph v0.2.29\n",
            "\u001b[1m\u001b[32m  Downloaded\u001b[0m foreign-types-shared v0.1.1\n",
            "\u001b[1m\u001b[32m  Downloaded\u001b[0m darling_macro v0.20.10\n",
            "\u001b[1m\u001b[32m   Compiling\u001b[0m proc-macro2 v1.0.93\n",
            "\u001b[1m\u001b[32m   Compiling\u001b[0m unicode-ident v1.0.16\n",
            "\u001b[1m\u001b[32m   Compiling\u001b[0m libc v0.2.169\n",
            "\u001b[1m\u001b[32m   Compiling\u001b[0m quote v1.0.38\n",
            "\u001b[1m\u001b[32m   Compiling\u001b[0m syn v2.0.98\n",
            "\u001b[1m\u001b[32m   Compiling\u001b[0m autocfg v1.4.0\n",
            "\u001b[1m\u001b[32m   Compiling\u001b[0m cfg-if v1.0.0\n",
            "\u001b[1m\u001b[32m   Compiling\u001b[0m once_cell v1.19.0\n",
            "\u001b[1m\u001b[32m   Compiling\u001b[0m libm v0.2.11\n",
            "\u001b[1m\u001b[32m   Compiling\u001b[0m num-traits v0.2.19\n",
            "\u001b[1m\u001b[32m   Compiling\u001b[0m getrandom v0.2.15\n",
            "\u001b[1m\u001b[32m   Compiling\u001b[0m memchr v2.7.4\n",
            "\u001b[1m\u001b[32m   Compiling\u001b[0m byteorder v1.5.0\n",
            "\u001b[1m\u001b[32m   Compiling\u001b[0m crossbeam-utils v0.8.21\n",
            "\u001b[1m\u001b[32m   Compiling\u001b[0m rand_core v0.6.4\n",
            "\u001b[1m\u001b[32m   Compiling\u001b[0m paste v1.0.15\n",
            "\u001b[1m\u001b[32m   Compiling\u001b[0m bytemuck_derive v1.8.1\n",
            "\u001b[1m\u001b[32m   Compiling\u001b[0m zerocopy-derive v0.7.35\n",
            "\u001b[1m\u001b[32m   Compiling\u001b[0m zerocopy v0.7.35\n",
            "\u001b[1m\u001b[32m   Compiling\u001b[0m bytemuck v1.21.0\n",
            "\u001b[1m\u001b[32m   Compiling\u001b[0m num-complex v0.4.6\n",
            "\u001b[1m\u001b[32m   Compiling\u001b[0m ppv-lite86 v0.2.20\n",
            "\u001b[1m\u001b[32m   Compiling\u001b[0m either v1.13.0\n",
            "\u001b[1m\u001b[32m   Compiling\u001b[0m rand_chacha v0.3.1\n",
            "\u001b[1m\u001b[32m   Compiling\u001b[0m shlex v1.3.0\n",
            "\u001b[1m\u001b[32m   Compiling\u001b[0m cc v1.2.14\n",
            "\u001b[1m\u001b[32m   Compiling\u001b[0m rand v0.8.5\n",
            "\u001b[1m\u001b[32m   Compiling\u001b[0m crossbeam-epoch v0.9.18\n",
            "\u001b[1m\u001b[32m   Compiling\u001b[0m rayon-core v1.12.1\n",
            "\u001b[1m\u001b[32m   Compiling\u001b[0m crossbeam-deque v0.8.6\n",
            "\u001b[1m\u001b[32m   Compiling\u001b[0m synstructure v0.13.1\n",
            "\u001b[1m\u001b[32m   Compiling\u001b[0m reborrow v0.5.5\n",
            "\u001b[1m\u001b[32m   Compiling\u001b[0m zerofrom-derive v0.1.5\n",
            "\u001b[1m\u001b[32m   Compiling\u001b[0m rayon v1.10.0\n",
            "\u001b[1m\u001b[32m   Compiling\u001b[0m rand_distr v0.4.3\n",
            "\u001b[1m\u001b[32m   Compiling\u001b[0m itoa v1.0.14\n",
            "\u001b[1m\u001b[32m   Compiling\u001b[0m stable_deref_trait v1.2.0\n",
            "\u001b[1m\u001b[32m   Compiling\u001b[0m zerofrom v0.1.5\n",
            "\u001b[1m\u001b[32m   Compiling\u001b[0m yoke-derive v0.7.5\n",
            "\u001b[1m\u001b[32m   Compiling\u001b[0m bitflags v2.8.0\n",
            "\u001b[1m\u001b[32m   Compiling\u001b[0m pin-project-lite v0.2.16\n",
            "\u001b[1m\u001b[32m   Compiling\u001b[0m yoke v0.7.5\n",
            "\u001b[1m\u001b[32m   Compiling\u001b[0m half v2.4.1\n",
            "\u001b[1m\u001b[32m   Compiling\u001b[0m serde v1.0.217\n",
            "\u001b[1m\u001b[32m   Compiling\u001b[0m seq-macro v0.3.5\n",
            "\u001b[1m\u001b[32m   Compiling\u001b[0m displaydoc v0.2.5\n",
            "\u001b[1m\u001b[32m   Compiling\u001b[0m serde_derive v1.0.217\n",
            "\u001b[1m\u001b[32m   Compiling\u001b[0m pkg-config v0.3.31\n",
            "\u001b[1m\u001b[32m   Compiling\u001b[0m bitflags v1.3.2\n",
            "\u001b[1m\u001b[32m   Compiling\u001b[0m zerovec-derive v0.10.3\n",
            "\u001b[1m\u001b[32m   Compiling\u001b[0m tracing-core v0.1.33\n",
            "\u001b[1m\u001b[32m   Compiling\u001b[0m futures-core v0.3.31\n",
            "\u001b[1m\u001b[32m   Compiling\u001b[0m smallvec v1.13.2\n",
            "\u001b[1m\u001b[32m   Compiling\u001b[0m version_check v0.9.5\n",
            "\u001b[1m\u001b[32m   Compiling\u001b[0m pulp v0.21.4\n",
            "\u001b[1m\u001b[32m   Compiling\u001b[0m zerovec v0.10.4\n",
            "\u001b[1m\u001b[32m   Compiling\u001b[0m slab v0.4.9\n",
            "\u001b[1m\u001b[32m   Compiling\u001b[0m futures-sink v0.3.31\n",
            "\u001b[1m\u001b[32m   Compiling\u001b[0m ryu v1.0.19\n",
            "\u001b[1m\u001b[32m   Compiling\u001b[0m bytes v1.10.0\n",
            "\u001b[1m\u001b[32m   Compiling\u001b[0m serde_json v1.0.138\n",
            "\u001b[1m\u001b[32m   Compiling\u001b[0m vcpkg v0.2.15\n",
            "\u001b[1m\u001b[32m   Compiling\u001b[0m openssl-sys v0.9.105\n",
            "\u001b[1m\u001b[32m   Compiling\u001b[0m tinystr v0.7.6\n",
            "\u001b[1m\u001b[32m   Compiling\u001b[0m raw-cpuid v11.3.0\n",
            "\u001b[1m\u001b[32m   Compiling\u001b[0m dyn-stack v0.13.0\n",
            "\u001b[1m\u001b[32m   Compiling\u001b[0m tracing-attributes v0.1.28\n",
            "\u001b[1m\u001b[32m   Compiling\u001b[0m litemap v0.7.4\n",
            "\u001b[1m\u001b[32m   Compiling\u001b[0m writeable v0.5.5\n",
            "\u001b[1m\u001b[32m   Compiling\u001b[0m equivalent v1.0.1\n",
            "\u001b[1m\u001b[32m   Compiling\u001b[0m log v0.4.25\n",
            "\u001b[1m\u001b[32m   Compiling\u001b[0m hashbrown v0.15.2\n",
            "\u001b[1m\u001b[32m   Compiling\u001b[0m tracing v0.1.41\n",
            "\u001b[1m\u001b[32m   Compiling\u001b[0m icu_locid v1.5.0\n",
            "\u001b[1m\u001b[32m   Compiling\u001b[0m indexmap v2.7.1\n",
            "\u001b[1m\u001b[32m   Compiling\u001b[0m gemm-common v0.18.2\n",
            "\u001b[1m\u001b[32m   Compiling\u001b[0m futures-channel v0.3.31\n",
            "\u001b[1m\u001b[32m   Compiling\u001b[0m raw-cpuid v10.7.0\n",
            "\u001b[1m\u001b[32m   Compiling\u001b[0m pulp v0.18.22\n",
            "\u001b[1m\u001b[32m   Compiling\u001b[0m dyn-stack v0.10.0\n",
            "\u001b[1m\u001b[32m   Compiling\u001b[0m icu_provider_macros v1.5.0\n",
            "\u001b[1m\u001b[32m   Compiling\u001b[0m futures-macro v0.3.31\n",
            "\u001b[1m\u001b[32m   Compiling\u001b[0m tokio-macros v2.5.0\n",
            "\u001b[1m\u001b[32m   Compiling\u001b[0m num-integer v0.1.46\n",
            "\u001b[1m\u001b[32m   Compiling\u001b[0m crc32fast v1.4.2\n",
            "\u001b[1m\u001b[32m   Compiling\u001b[0m socket2 v0.5.8\n",
            "\u001b[1m\u001b[32m   Compiling\u001b[0m mio v1.0.3\n",
            "\u001b[1m\u001b[32m   Compiling\u001b[0m simd-adler32 v0.3.7\n",
            "\u001b[1m\u001b[32m   Compiling\u001b[0m pin-utils v0.1.0\n",
            "\u001b[1m\u001b[32m   Compiling\u001b[0m futures-io v0.3.31\n",
            "\u001b[1m\u001b[32m   Compiling\u001b[0m object v0.36.7\n",
            "\u001b[1m\u001b[32m   Compiling\u001b[0m futures-task v0.3.31\n",
            "\u001b[1m\u001b[32m   Compiling\u001b[0m tokio v1.43.0\n",
            "\u001b[1m\u001b[32m   Compiling\u001b[0m futures-util v0.3.31\n",
            "\u001b[1m\u001b[32m   Compiling\u001b[0m gemm-common v0.17.1\n",
            "\u001b[1m\u001b[32m   Compiling\u001b[0m icu_provider v1.5.0\n",
            "\u001b[1m\u001b[32m   Compiling\u001b[0m icu_locid_transform_data v1.5.0\n",
            "\u001b[1m\u001b[32m   Compiling\u001b[0m fnv v1.0.7\n",
            "\u001b[1m\u001b[32m   Compiling\u001b[0m adler2 v2.0.0\n",
            "\u001b[1m\u001b[32m   Compiling\u001b[0m miniz_oxide v0.8.4\n",
            "\u001b[1m\u001b[32m   Compiling\u001b[0m http v1.2.0\n",
            "\u001b[1m\u001b[32m   Compiling\u001b[0m icu_locid_transform v1.5.0\n",
            "\u001b[1m\u001b[32m   Compiling\u001b[0m num-bigint v0.4.6\n",
            "\u001b[1m\u001b[32m   Compiling\u001b[0m icu_collections v1.5.0\n",
            "\u001b[1m\u001b[32m   Compiling\u001b[0m foreign-types-shared v0.1.1\n",
            "\u001b[1m\u001b[32m   Compiling\u001b[0m icu_properties_data v1.5.0\n",
            "\u001b[1m\u001b[32m   Compiling\u001b[0m thiserror v1.0.69\n",
            "\u001b[1m\u001b[32m   Compiling\u001b[0m winnow v0.7.2\n",
            "\u001b[1m\u001b[32m   Compiling\u001b[0m toml_datetime v0.6.8\n",
            "\u001b[1m\u001b[32m   Compiling\u001b[0m openssl v0.10.70\n",
            "\u001b[1m\u001b[32m   Compiling\u001b[0m toml_edit v0.22.24\n",
            "\u001b[1m\u001b[32m   Compiling\u001b[0m icu_properties v1.5.1\n",
            "\u001b[1m\u001b[32m   Compiling\u001b[0m num-rational v0.4.2\n",
            "\u001b[1m\u001b[32m   Compiling\u001b[0m foreign-types v0.3.2\n",
            "\u001b[1m\u001b[32m   Compiling\u001b[0m ring v0.17.9\n",
            "\u001b[1m\u001b[32m   Compiling\u001b[0m openssl-macros v0.1.1\n",
            "\u001b[1m\u001b[32m   Compiling\u001b[0m thiserror-impl v1.0.69\n",
            "\u001b[1m\u001b[32m   Compiling\u001b[0m native-tls v0.2.13\n",
            "\u001b[1m\u001b[32m   Compiling\u001b[0m rustls-pki-types v1.11.0\n",
            "\u001b[1m\u001b[32m   Compiling\u001b[0m write16 v1.0.0\n",
            "\u001b[1m\u001b[32m   Compiling\u001b[0m icu_normalizer_data v1.5.0\n",
            "\u001b[1m\u001b[32m   Compiling\u001b[0m utf8_iter v1.0.4\n",
            "\u001b[1m\u001b[32m   Compiling\u001b[0m httparse v1.10.0\n",
            "\u001b[1m\u001b[32m   Compiling\u001b[0m utf16_iter v1.0.5\n",
            "\u001b[1m\u001b[32m   Compiling\u001b[0m strsim v0.11.1\n",
            "\u001b[1m\u001b[32m   Compiling\u001b[0m ident_case v1.0.1\n",
            "\u001b[1m\u001b[32m   Compiling\u001b[0m darling_core v0.20.10\n",
            "\u001b[1m\u001b[32m   Compiling\u001b[0m icu_normalizer v1.5.0\n",
            "\u001b[1m\u001b[32m   Compiling\u001b[0m proc-macro-crate v3.2.0\n",
            "\u001b[1m\u001b[32m   Compiling\u001b[0m http-body v1.0.1\n",
            "\u001b[1m\u001b[32m   Compiling\u001b[0m tokio-util v0.7.13\n",
            "\u001b[1m\u001b[32m   Compiling\u001b[0m num-iter v0.1.45\n",
            "\u001b[1m\u001b[32m   Compiling\u001b[0m gemm-f32 v0.18.2\n",
            "\u001b[1m\u001b[32m   Compiling\u001b[0m try-lock v0.2.5\n",
            "\u001b[1m\u001b[32m   Compiling\u001b[0m percent-encoding v2.3.1\n",
            "\u001b[1m\u001b[32m   Compiling\u001b[0m openssl-probe v0.1.6\n",
            "\u001b[1m\u001b[32m   Compiling\u001b[0m anyhow v1.0.95\n",
            "\u001b[1m\u001b[32m   Compiling\u001b[0m atomic-waker v1.1.2\n",
            "\u001b[1m\u001b[32m   Compiling\u001b[0m h2 v0.4.7\n",
            "\u001b[1m\u001b[32m   Compiling\u001b[0m form_urlencoded v1.2.1\n",
            "\u001b[1m\u001b[32m   Compiling\u001b[0m want v0.3.1\n",
            "\u001b[1m\u001b[32m   Compiling\u001b[0m gemm-f16 v0.18.2\n",
            "\u001b[1m\u001b[32m   Compiling\u001b[0m num v0.4.3\n",
            "\u001b[1m\u001b[32m   Compiling\u001b[0m num_enum_derive v0.7.3\n",
            "\u001b[1m\u001b[32m   Compiling\u001b[0m darling_macro v0.20.10\n",
            "\u001b[1m\u001b[32m   Compiling\u001b[0m idna_adapter v1.2.0\n",
            "\u001b[1m\u001b[32m   Compiling\u001b[0m flate2 v1.0.35\n",
            "\u001b[1m\u001b[32m   Compiling\u001b[0m gemm-f32 v0.17.1\n",
            "\u001b[1m\u001b[32m   Compiling\u001b[0m gemm-c32 v0.18.2\n",
            "\u001b[1m\u001b[32m   Compiling\u001b[0m gemm-c64 v0.18.2\n",
            "\u001b[1m\u001b[32m   Compiling\u001b[0m gemm-f64 v0.18.2\n",
            "\u001b[1m\u001b[32m   Compiling\u001b[0m aho-corasick v1.1.3\n",
            "\u001b[1m\u001b[32m   Compiling\u001b[0m num_cpus v1.16.0\n",
            "\u001b[1m\u001b[32m   Compiling\u001b[0m gimli v0.31.1\n",
            "\u001b[1m\u001b[32m   Compiling\u001b[0m zip v1.1.4\n",
            "\u001b[1m\u001b[32m   Compiling\u001b[0m untrusted v0.9.0\n",
            "\u001b[1m\u001b[32m   Compiling\u001b[0m regex-syntax v0.8.5\n",
            "\u001b[1m\u001b[32m   Compiling\u001b[0m tower-service v0.3.3\n",
            "\u001b[1m\u001b[32m   Compiling\u001b[0m regex-automata v0.4.9\n",
            "\u001b[1m\u001b[32m   Compiling\u001b[0m addr2line v0.24.2\n",
            "\u001b[1m\u001b[32m   Compiling\u001b[0m gemm v0.18.2\n",
            "\u001b[1m\u001b[32m   Compiling\u001b[0m gemm-f16 v0.17.1\n",
            "\u001b[1m\u001b[32m   Compiling\u001b[0m hyper v1.6.0\n",
            "\u001b[1m\u001b[32m   Compiling\u001b[0m idna v1.0.3\n",
            "\u001b[1m\u001b[32m   Compiling\u001b[0m darling v0.20.10\n",
            "\u001b[1m\u001b[32m   Compiling\u001b[0m num_enum v0.7.3\n",
            "\u001b[1m\u001b[32m   Compiling\u001b[0m gemm-c32 v0.17.1\n",
            "\u001b[1m\u001b[32m   Compiling\u001b[0m gemm-c64 v0.17.1\n",
            "\u001b[1m\u001b[32m   Compiling\u001b[0m gemm-f64 v0.17.1\n",
            "\u001b[1m\u001b[32m   Compiling\u001b[0m safetensors v0.4.5\n",
            "\u001b[1m\u001b[32m   Compiling\u001b[0m onig_sys v69.8.1\n",
            "\u001b[1m\u001b[32m   Compiling\u001b[0m memmap2 v0.9.5\n",
            "\u001b[1m\u001b[32m   Compiling\u001b[0m libloading v0.8.6\n",
            "\u001b[1m\u001b[32m   Compiling\u001b[0m lazy_static v1.5.0\n",
            "\u001b[1m\u001b[32m   Compiling\u001b[0m rustc-demangle v0.1.24\n",
            "\u001b[1m\u001b[32m   Compiling\u001b[0m rustls v0.23.23\n",
            "\u001b[1m\u001b[32m   Compiling\u001b[0m portable-atomic v1.10.0\n",
            "\u001b[1m\u001b[32m   Compiling\u001b[0m backtrace v0.3.74\n",
            "\u001b[1m\u001b[32m   Compiling\u001b[0m ug v0.1.0\n",
            "\u001b[1m\u001b[32m   Compiling\u001b[0m gemm v0.17.1\n",
            "\u001b[1m\u001b[32m   Compiling\u001b[0m derive_builder_core v0.20.2\n",
            "\u001b[1m\u001b[32m   Compiling\u001b[0m url v2.5.4\n",
            "\u001b[1m\u001b[32m   Compiling\u001b[0m hyper-util v0.1.10\n",
            "\u001b[1m\u001b[32m   Compiling\u001b[0m rustls-webpki v0.102.8\n",
            "\u001b[1m\u001b[32m   Compiling\u001b[0m tokio-native-tls v0.3.1\n",
            "\u001b[1m\u001b[32m   Compiling\u001b[0m http-body-util v0.1.2\n",
            "\u001b[1m\u001b[32m   Compiling\u001b[0m fdeflate v0.3.7\n",
            "\u001b[1m\u001b[32m   Compiling\u001b[0m sync_wrapper v1.0.2\n",
            "\u001b[1m\u001b[32m   Compiling\u001b[0m safe_arch v0.7.4\n",
            "\u001b[1m\u001b[32m   Compiling\u001b[0m matrixmultiply v0.3.9\n",
            "\u001b[1m\u001b[32m   Compiling\u001b[0m utf8parse v0.2.2\n",
            "\u001b[1m\u001b[32m   Compiling\u001b[0m unicode-width v0.2.0\n",
            "\u001b[1m\u001b[32m   Compiling\u001b[0m tower-layer v0.3.3\n",
            "\u001b[1m\u001b[32m   Compiling\u001b[0m thiserror v2.0.11\n",
            "\u001b[1m\u001b[32m   Compiling\u001b[0m subtle v2.6.1\n",
            "\u001b[1m\u001b[32m   Compiling\u001b[0m minimal-lexical v0.2.1\n",
            "\u001b[1m\u001b[32m   Compiling\u001b[0m bit-vec v0.6.3\n",
            "\u001b[1m\u001b[32m   Compiling\u001b[0m option-ext v0.2.0\n",
            "\u001b[1m\u001b[32m   Compiling\u001b[0m typenum v1.17.0\n",
            "\u001b[1m\u001b[32m   Compiling\u001b[0m base64 v0.22.1\n",
            "\u001b[1m\u001b[32m   Compiling\u001b[0m zune-core v0.4.12\n",
            "\u001b[1m\u001b[32m   Compiling\u001b[0m esaxx-rs v0.1.10\n",
            "\u001b[1m\u001b[32m   Compiling\u001b[0m zeroize v1.8.1\n",
            "\u001b[1m\u001b[32m   Compiling\u001b[0m zune-jpeg v0.4.14\n",
            "\u001b[1m\u001b[32m   Compiling\u001b[0m dirs-sys v0.4.1\n",
            "\u001b[1m\u001b[32m   Compiling\u001b[0m nom v7.1.3\n",
            "\u001b[1m\u001b[32m   Compiling\u001b[0m bit-set v0.5.3\n",
            "\u001b[1m\u001b[32m   Compiling\u001b[0m tower v0.5.2\n",
            "\u001b[1m\u001b[32m   Compiling\u001b[0m console v0.15.10\n",
            "\u001b[1m\u001b[32m   Compiling\u001b[0m anstyle-parse v0.2.6\n",
            "\u001b[1m\u001b[32m   Compiling\u001b[0m wide v0.7.32\n",
            "\u001b[1m\u001b[32m   Compiling\u001b[0m png v0.17.16\n",
            "\u001b[1m\u001b[32m   Compiling\u001b[0m hyper-tls v0.6.0\n",
            "\u001b[1m\u001b[32m   Compiling\u001b[0m derive_builder_macro v0.20.2\n",
            "\u001b[1m\u001b[32m   Compiling\u001b[0m candle-core v0.8.2 (/content/myapp/candle/candle-core)\n",
            "\u001b[1m\u001b[32m   Compiling\u001b[0m serde_urlencoded v0.7.1\n",
            "\u001b[1m\u001b[32m   Compiling\u001b[0m rustls-pemfile v2.2.0\n",
            "\u001b[1m\u001b[32m   Compiling\u001b[0m webpki-roots v0.26.8\n",
            "\u001b[1m\u001b[32m   Compiling\u001b[0m futures-executor v0.3.31\n",
            "\u001b[1m\u001b[32m   Compiling\u001b[0m itertools v0.11.0\n",
            "\u001b[1m\u001b[32m   Compiling\u001b[0m itertools v0.12.1\n",
            "\u001b[1m\u001b[32m   Compiling\u001b[0m monostate-impl v0.1.13\n",
            "\u001b[1m\u001b[32m   Compiling\u001b[0m thiserror-impl v2.0.11\n",
            "\u001b[1m\u001b[32m   Compiling\u001b[0m socks v0.3.4\n",
            "\u001b[1m\u001b[32m   Compiling\u001b[0m approx v0.5.1\n",
            "\u001b[1m\u001b[32m   Compiling\u001b[0m encoding_rs v0.8.35\n",
            "\u001b[1m\u001b[32m   Compiling\u001b[0m anstyle-query v1.1.2\n",
            "\u001b[1m\u001b[32m   Compiling\u001b[0m macro_rules_attribute-proc_macro v0.2.0\n",
            "\u001b[1m\u001b[32m   Compiling\u001b[0m anstyle v1.0.10\n",
            "\u001b[1m\u001b[32m   Compiling\u001b[0m number_prefix v0.4.0\n",
            "\u001b[1m\u001b[32m   Compiling\u001b[0m ttf-parser v0.25.1\n",
            "\u001b[1m\u001b[32m   Compiling\u001b[0m overload v0.1.1\n",
            "\u001b[1m\u001b[32m   Compiling\u001b[0m base64 v0.13.1\n",
            "\u001b[1m\u001b[32m   Compiling\u001b[0m is_terminal_polyfill v1.70.1\n",
            "\u001b[1m\u001b[32m   Compiling\u001b[0m byteorder-lite v0.1.0\n",
            "\u001b[1m\u001b[32m   Compiling\u001b[0m ipnet v2.11.0\n",
            "\u001b[1m\u001b[32m   Compiling\u001b[0m rawpointer v0.2.1\n",
            "\u001b[1m\u001b[32m   Compiling\u001b[0m mime v0.3.17\n",
            "\u001b[1m\u001b[32m   Compiling\u001b[0m unicode-segmentation v1.12.0\n",
            "\u001b[1m\u001b[32m   Compiling\u001b[0m colorchoice v1.0.3\n",
            "\u001b[1m\u001b[32m   Compiling\u001b[0m anstream v0.6.18\n",
            "\u001b[1m\u001b[32m   Compiling\u001b[0m spm_precompiled v0.1.4\n",
            "\u001b[1m\u001b[32m   Compiling\u001b[0m reqwest v0.12.12\n",
            "\u001b[1m\u001b[32m   Compiling\u001b[0m image v0.25.5\n",
            "\u001b[1m\u001b[32m   Compiling\u001b[0m nu-ansi-term v0.46.0\n",
            "\u001b[1m\u001b[32m   Compiling\u001b[0m owned_ttf_parser v0.25.0\n",
            "\u001b[1m\u001b[32m   Compiling\u001b[0m indicatif v0.17.11\n",
            "\u001b[1m\u001b[32m   Compiling\u001b[0m macro_rules_attribute v0.2.0\n",
            "\u001b[1m\u001b[32m   Compiling\u001b[0m simba v0.8.1\n",
            "\u001b[1m\u001b[32m   Compiling\u001b[0m ureq v2.12.1\n",
            "\u001b[1m\u001b[32m   Compiling\u001b[0m monostate v0.1.13\n",
            "\u001b[1m\u001b[32m   Compiling\u001b[0m rayon-cond v0.3.0\n",
            "\u001b[1m\u001b[32m   Compiling\u001b[0m futures v0.3.31\n",
            "\u001b[1m\u001b[32m   Compiling\u001b[0m candle-nn v0.8.2 (/content/myapp/candle/candle-nn)\n",
            "\u001b[1m\u001b[32m   Compiling\u001b[0m derive_builder v0.20.2\n",
            "\u001b[1m\u001b[32m   Compiling\u001b[0m onig v6.4.0\n",
            "\u001b[1m\u001b[32m   Compiling\u001b[0m candle-examples v0.8.2 (/content/myapp/candle/candle-examples)\n",
            "\u001b[1m\u001b[32m   Compiling\u001b[0m fancy-regex v0.13.0\n",
            "\u001b[1m\u001b[32m   Compiling\u001b[0m dirs v5.0.1\n",
            "\u001b[1m\u001b[32m   Compiling\u001b[0m sharded-slab v0.1.7\n",
            "\u001b[1m\u001b[32m   Compiling\u001b[0m regex v1.10.6\n",
            "\u001b[1m\u001b[32m   Compiling\u001b[0m tracing-log v0.2.0\n",
            "\u001b[1m\u001b[32m   Compiling\u001b[0m serde_plain v1.0.2\n",
            "\u001b[1m\u001b[32m   Compiling\u001b[0m unicode-normalization-alignments v0.1.12\n",
            "\u001b[1m\u001b[32m   Compiling\u001b[0m csv-core v0.1.12\n",
            "\u001b[1m\u001b[32m   Compiling\u001b[0m thread_local v1.1.8\n",
            "\u001b[1m\u001b[32m   Compiling\u001b[0m unicode_categories v0.1.1\n",
            "\u001b[1m\u001b[32m   Compiling\u001b[0m clap_lex v0.7.4\n",
            "\u001b[1m\u001b[32m   Compiling\u001b[0m ab_glyph_rasterizer v0.1.8\n",
            "\u001b[1m\u001b[32m   Compiling\u001b[0m heck v0.5.0\n",
            "\u001b[1m\u001b[32m   Compiling\u001b[0m custom_derive v0.1.7\n",
            "\u001b[1m\u001b[32m   Compiling\u001b[0m conv v0.3.3\n",
            "\u001b[1m\u001b[32m   Compiling\u001b[0m clap_builder v4.5.29\n",
            "\u001b[1m\u001b[32m   Compiling\u001b[0m clap_derive v4.5.28\n",
            "\u001b[1m\u001b[32m   Compiling\u001b[0m ab_glyph v0.2.29\n",
            "\u001b[1m\u001b[32m   Compiling\u001b[0m tokenizers v0.19.1\n",
            "\u001b[1m\u001b[32m   Compiling\u001b[0m tracing-subscriber v0.3.19\n",
            "\u001b[1m\u001b[32m   Compiling\u001b[0m csv v1.3.1\n",
            "\u001b[1m\u001b[32m   Compiling\u001b[0m candle-transformers v0.8.2 (/content/myapp/candle/candle-transformers)\n",
            "\u001b[1m\u001b[32m   Compiling\u001b[0m nalgebra v0.32.6\n",
            "\u001b[1m\u001b[32m   Compiling\u001b[0m hf-hub v0.4.1\n",
            "\u001b[1m\u001b[32m   Compiling\u001b[0m imageproc v0.24.0\n",
            "\u001b[1m\u001b[32m   Compiling\u001b[0m tracing-chrome v0.7.2\n",
            "\u001b[1m\u001b[32m   Compiling\u001b[0m clap v4.5.29\n",
            "\u001b[1m\u001b[32m    Finished\u001b[0m `release` profile [optimized] target(s) in 12m 15s\n",
            "\u001b[1m\u001b[32m     Running\u001b[0m `/content/myapp/candle/target/release/examples/phi --model 2 --prompt 'A skier slides down a frictionless slope of height 40m and length 80m. What'\\''s the skier speed at the bottom?'`\n",
            "avx: true, neon: false, simd128: false, f16c: true\n",
            "temp: 0.00 repeat-penalty: 1.10 repeat-last-n: 64\n",
            "\u001b[2K\u001b[1A..del-00001-of-00002.safetensors [00:01:59] [] 4.65 GiB/4.65 GiB 39.98 MiB/s (0s)                                                                               retrieved the files in 133.659254993s\n",
            "Running on CPU, to run on GPU, build this example with `--features cuda`\n",
            "\u001b[2Kconfig.json [00:00:00] [████████████████████████████████████] 735 B/735 B - (0s)loaded the model in 36.910073516s\n",
            "starting the inference loop\n",
            "A skier slides down a frictionless slope of height 40m and length 80m. What's the skier speed at the bottom?\n",
            "\n",
            "Solution:\n",
            "The potential energy of the skier is converted into kinetic energy as it slides down the slope. The formula for potential energy is mgh, where m is mass, g is acceleration due to gravity (9.8 m/s^2), and h is height. Since there's no friction, all the potential energy is converted into kinetic energy at the bottom of the slope. The formula for kinetic energy is 1/2mv^2, where v is velocity. We can equate these two formulas:\n",
            "mgh = 1/2mv^2\n",
            "Solving for v, we get:\n",
            "v = sqrt(2gh)\n",
            "Substituting the given values, we get:\n",
            "v = sqrt(2*9.8*40) = 28 m/s\n",
            "Therefore, the skier speed at the bottom of the slope is 28 m/s. \n",
            "188 tokens generated (0.79 token/s)\n"
          ]
        }
      ]
    }
  ]
}